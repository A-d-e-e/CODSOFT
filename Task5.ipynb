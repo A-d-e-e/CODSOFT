{
 "cells": [
  {
   "cell_type": "code",
   "execution_count": 3,
   "metadata": {
    "tags": []
   },
   "outputs": [
    {
     "name": "stdout",
     "output_type": "stream",
     "text": [
      "Requirement already satisfied: tensorflow in c:\\users\\hp\\anaconda3\\envs\\codsoft2\\lib\\site-packages (2.13.0)\n",
      "Requirement already satisfied: tensorflow-intel==2.13.0 in c:\\users\\hp\\anaconda3\\envs\\codsoft2\\lib\\site-packages (from tensorflow) (2.13.0)\n",
      "Requirement already satisfied: absl-py>=1.0.0 in c:\\users\\hp\\anaconda3\\envs\\codsoft2\\lib\\site-packages (from tensorflow-intel==2.13.0->tensorflow) (1.4.0)\n",
      "Requirement already satisfied: astunparse>=1.6.0 in c:\\users\\hp\\anaconda3\\envs\\codsoft2\\lib\\site-packages (from tensorflow-intel==2.13.0->tensorflow) (1.6.3)\n",
      "Requirement already satisfied: flatbuffers>=23.1.21 in c:\\users\\hp\\appdata\\roaming\\python\\python311\\site-packages (from tensorflow-intel==2.13.0->tensorflow) (23.5.9)\n",
      "Requirement already satisfied: gast<=0.4.0,>=0.2.1 in c:\\users\\hp\\anaconda3\\envs\\codsoft2\\lib\\site-packages (from tensorflow-intel==2.13.0->tensorflow) (0.4.0)\n",
      "Requirement already satisfied: google-pasta>=0.1.1 in c:\\users\\hp\\anaconda3\\envs\\codsoft2\\lib\\site-packages (from tensorflow-intel==2.13.0->tensorflow) (0.2.0)\n",
      "Requirement already satisfied: h5py>=2.9.0 in c:\\users\\hp\\anaconda3\\envs\\codsoft2\\lib\\site-packages (from tensorflow-intel==2.13.0->tensorflow) (3.9.0)\n",
      "Requirement already satisfied: libclang>=13.0.0 in c:\\users\\hp\\appdata\\roaming\\python\\python311\\site-packages (from tensorflow-intel==2.13.0->tensorflow) (16.0.0)\n",
      "Requirement already satisfied: numpy<=1.24.3,>=1.22 in c:\\users\\hp\\appdata\\roaming\\python\\python311\\site-packages (from tensorflow-intel==2.13.0->tensorflow) (1.23.5)\n",
      "Requirement already satisfied: opt-einsum>=2.3.2 in c:\\users\\hp\\anaconda3\\envs\\codsoft2\\lib\\site-packages (from tensorflow-intel==2.13.0->tensorflow) (3.3.0)\n",
      "Requirement already satisfied: packaging in c:\\users\\hp\\appdata\\roaming\\python\\python311\\site-packages (from tensorflow-intel==2.13.0->tensorflow) (23.1)\n",
      "Requirement already satisfied: protobuf!=4.21.0,!=4.21.1,!=4.21.2,!=4.21.3,!=4.21.4,!=4.21.5,<5.0.0dev,>=3.20.3 in c:\\users\\hp\\appdata\\roaming\\python\\python311\\site-packages (from tensorflow-intel==2.13.0->tensorflow) (4.23.0)\n",
      "Requirement already satisfied: setuptools in c:\\users\\hp\\anaconda3\\envs\\codsoft2\\lib\\site-packages (from tensorflow-intel==2.13.0->tensorflow) (68.0.0)\n",
      "Requirement already satisfied: six>=1.12.0 in c:\\users\\hp\\appdata\\roaming\\python\\python311\\site-packages (from tensorflow-intel==2.13.0->tensorflow) (1.16.0)\n",
      "Requirement already satisfied: termcolor>=1.1.0 in c:\\users\\hp\\appdata\\roaming\\python\\python311\\site-packages (from tensorflow-intel==2.13.0->tensorflow) (2.3.0)\n",
      "Requirement already satisfied: typing-extensions<4.6.0,>=3.6.6 in c:\\users\\hp\\appdata\\roaming\\python\\python311\\site-packages (from tensorflow-intel==2.13.0->tensorflow) (4.5.0)\n",
      "Requirement already satisfied: wrapt>=1.11.0 in c:\\users\\hp\\appdata\\roaming\\python\\python311\\site-packages (from tensorflow-intel==2.13.0->tensorflow) (1.14.1)\n",
      "Requirement already satisfied: grpcio<2.0,>=1.24.3 in c:\\users\\hp\\anaconda3\\envs\\codsoft2\\lib\\site-packages (from tensorflow-intel==2.13.0->tensorflow) (1.57.0)\n",
      "Requirement already satisfied: tensorboard<2.14,>=2.13 in c:\\users\\hp\\anaconda3\\envs\\codsoft2\\lib\\site-packages (from tensorflow-intel==2.13.0->tensorflow) (2.13.0)\n",
      "Requirement already satisfied: tensorflow-estimator<2.14,>=2.13.0 in c:\\users\\hp\\anaconda3\\envs\\codsoft2\\lib\\site-packages (from tensorflow-intel==2.13.0->tensorflow) (2.13.0)\n",
      "Requirement already satisfied: keras<2.14,>=2.13.1 in c:\\users\\hp\\anaconda3\\envs\\codsoft2\\lib\\site-packages (from tensorflow-intel==2.13.0->tensorflow) (2.13.1)\n",
      "Requirement already satisfied: tensorflow-io-gcs-filesystem>=0.23.1 in c:\\users\\hp\\appdata\\roaming\\python\\python311\\site-packages (from tensorflow-intel==2.13.0->tensorflow) (0.31.0)\n",
      "Requirement already satisfied: wheel<1.0,>=0.23.0 in c:\\users\\hp\\appdata\\roaming\\python\\python311\\site-packages (from astunparse>=1.6.0->tensorflow-intel==2.13.0->tensorflow) (0.40.0)\n",
      "Requirement already satisfied: google-auth<3,>=1.6.3 in c:\\users\\hp\\anaconda3\\envs\\codsoft2\\lib\\site-packages (from tensorboard<2.14,>=2.13->tensorflow-intel==2.13.0->tensorflow) (2.22.0)\n",
      "Requirement already satisfied: google-auth-oauthlib<1.1,>=0.5 in c:\\users\\hp\\anaconda3\\envs\\codsoft2\\lib\\site-packages (from tensorboard<2.14,>=2.13->tensorflow-intel==2.13.0->tensorflow) (1.0.0)\n",
      "Requirement already satisfied: markdown>=2.6.8 in c:\\users\\hp\\anaconda3\\envs\\codsoft2\\lib\\site-packages (from tensorboard<2.14,>=2.13->tensorflow-intel==2.13.0->tensorflow) (3.4.4)\n",
      "Requirement already satisfied: requests<3,>=2.21.0 in c:\\users\\hp\\anaconda3\\envs\\codsoft2\\lib\\site-packages (from tensorboard<2.14,>=2.13->tensorflow-intel==2.13.0->tensorflow) (2.31.0)\n",
      "Requirement already satisfied: tensorboard-data-server<0.8.0,>=0.7.0 in c:\\users\\hp\\appdata\\roaming\\python\\python311\\site-packages (from tensorboard<2.14,>=2.13->tensorflow-intel==2.13.0->tensorflow) (0.7.0)\n",
      "Requirement already satisfied: werkzeug>=1.0.1 in c:\\users\\hp\\anaconda3\\envs\\codsoft2\\lib\\site-packages (from tensorboard<2.14,>=2.13->tensorflow-intel==2.13.0->tensorflow) (2.3.7)\n",
      "Requirement already satisfied: cachetools<6.0,>=2.0.0 in c:\\users\\hp\\anaconda3\\envs\\codsoft2\\lib\\site-packages (from google-auth<3,>=1.6.3->tensorboard<2.14,>=2.13->tensorflow-intel==2.13.0->tensorflow) (5.3.1)\n",
      "Requirement already satisfied: pyasn1-modules>=0.2.1 in c:\\users\\hp\\anaconda3\\envs\\codsoft2\\lib\\site-packages (from google-auth<3,>=1.6.3->tensorboard<2.14,>=2.13->tensorflow-intel==2.13.0->tensorflow) (0.3.0)\n",
      "Requirement already satisfied: rsa<5,>=3.1.4 in c:\\users\\hp\\anaconda3\\envs\\codsoft2\\lib\\site-packages (from google-auth<3,>=1.6.3->tensorboard<2.14,>=2.13->tensorflow-intel==2.13.0->tensorflow) (4.9)\n",
      "Requirement already satisfied: urllib3<2.0 in c:\\users\\hp\\appdata\\roaming\\python\\python311\\site-packages (from google-auth<3,>=1.6.3->tensorboard<2.14,>=2.13->tensorflow-intel==2.13.0->tensorflow) (1.26.15)\n",
      "Requirement already satisfied: requests-oauthlib>=0.7.0 in c:\\users\\hp\\anaconda3\\envs\\codsoft2\\lib\\site-packages (from google-auth-oauthlib<1.1,>=0.5->tensorboard<2.14,>=2.13->tensorflow-intel==2.13.0->tensorflow) (1.3.1)\n",
      "Requirement already satisfied: charset-normalizer<4,>=2 in c:\\users\\hp\\anaconda3\\envs\\codsoft2\\lib\\site-packages (from requests<3,>=2.21.0->tensorboard<2.14,>=2.13->tensorflow-intel==2.13.0->tensorflow) (2.0.4)\n",
      "Requirement already satisfied: idna<4,>=2.5 in c:\\users\\hp\\anaconda3\\envs\\codsoft2\\lib\\site-packages (from requests<3,>=2.21.0->tensorboard<2.14,>=2.13->tensorflow-intel==2.13.0->tensorflow) (3.4)\n",
      "Requirement already satisfied: certifi>=2017.4.17 in c:\\users\\hp\\anaconda3\\envs\\codsoft2\\lib\\site-packages (from requests<3,>=2.21.0->tensorboard<2.14,>=2.13->tensorflow-intel==2.13.0->tensorflow) (2023.7.22)\n",
      "Requirement already satisfied: MarkupSafe>=2.1.1 in c:\\users\\hp\\anaconda3\\envs\\codsoft2\\lib\\site-packages (from werkzeug>=1.0.1->tensorboard<2.14,>=2.13->tensorflow-intel==2.13.0->tensorflow) (2.1.1)\n",
      "Requirement already satisfied: pyasn1<0.6.0,>=0.4.6 in c:\\users\\hp\\appdata\\roaming\\python\\python311\\site-packages (from pyasn1-modules>=0.2.1->google-auth<3,>=1.6.3->tensorboard<2.14,>=2.13->tensorflow-intel==2.13.0->tensorflow) (0.5.0)\n",
      "Requirement already satisfied: oauthlib>=3.0.0 in c:\\users\\hp\\appdata\\roaming\\python\\python311\\site-packages (from requests-oauthlib>=0.7.0->google-auth-oauthlib<1.1,>=0.5->tensorboard<2.14,>=2.13->tensorflow-intel==2.13.0->tensorflow) (3.2.2)\n"
     ]
    }
   ],
   "source": [
    "!pip install tensorflow"
   ]
  },
  {
   "cell_type": "code",
   "execution_count": 4,
   "metadata": {
    "id": "4RZLbKvhna2Q",
    "tags": []
   },
   "outputs": [
    {
     "name": "stdout",
     "output_type": "stream",
     "text": [
      "2.13.0\n"
     ]
    }
   ],
   "source": [
    "import tensorflow"
   ]
  },
  {
   "cell_type": "code",
   "execution_count": 5,
   "metadata": {
    "id": "jjneMzGxDhGd",
    "tags": []
   },
   "outputs": [
    {
     "name": "stdout",
     "output_type": "stream",
     "text": [
      "Collecting mtcnn\n",
      "  Downloading mtcnn-0.1.1-py3-none-any.whl (2.3 MB)\n",
      "     ---------------------------------------- 0.0/2.3 MB ? eta -:--:--\n",
      "     ---------------------------------------- 0.0/2.3 MB ? eta -:--:--\n",
      "     ---------------------------------------- 0.0/2.3 MB ? eta -:--:--\n",
      "     ---------------------------------------- 0.0/2.3 MB ? eta -:--:--\n",
      "      --------------------------------------- 0.0/2.3 MB 219.4 kB/s eta 0:00:11\n",
      "     - -------------------------------------- 0.1/2.3 MB 454.0 kB/s eta 0:00:05\n",
      "     -- ------------------------------------- 0.2/2.3 MB 656.4 kB/s eta 0:00:04\n",
      "     ---- ----------------------------------- 0.2/2.3 MB 838.1 kB/s eta 0:00:03\n",
      "     ----- ---------------------------------- 0.3/2.3 MB 925.5 kB/s eta 0:00:03\n",
      "     ------ --------------------------------- 0.4/2.3 MB 1.0 MB/s eta 0:00:02\n",
      "     -------- ------------------------------- 0.5/2.3 MB 1.1 MB/s eta 0:00:02\n",
      "     --------- ------------------------------ 0.5/2.3 MB 1.1 MB/s eta 0:00:02\n",
      "     ---------- ----------------------------- 0.6/2.3 MB 1.2 MB/s eta 0:00:02\n",
      "     ------------ --------------------------- 0.7/2.3 MB 1.2 MB/s eta 0:00:02\n",
      "     ------------- -------------------------- 0.7/2.3 MB 1.2 MB/s eta 0:00:02\n",
      "     ------------- -------------------------- 0.8/2.3 MB 1.2 MB/s eta 0:00:02\n",
      "     ------------- -------------------------- 0.8/2.3 MB 1.2 MB/s eta 0:00:02\n",
      "     ------------- -------------------------- 0.8/2.3 MB 1.2 MB/s eta 0:00:02\n",
      "     ------------- -------------------------- 0.8/2.3 MB 1.2 MB/s eta 0:00:02\n",
      "     ------------- -------------------------- 0.8/2.3 MB 1.2 MB/s eta 0:00:02\n",
      "     ------------- -------------------------- 0.8/2.3 MB 1.2 MB/s eta 0:00:02\n",
      "     ------------- -------------------------- 0.8/2.3 MB 1.2 MB/s eta 0:00:02\n",
      "     ------------- -------------------------- 0.8/2.3 MB 1.2 MB/s eta 0:00:02\n",
      "     ------------- -------------------------- 0.8/2.3 MB 1.2 MB/s eta 0:00:02\n",
      "     ------------- -------------------------- 0.8/2.3 MB 1.2 MB/s eta 0:00:02\n",
      "     ------------- -------------------------- 0.8/2.3 MB 1.2 MB/s eta 0:00:02\n",
      "     ------------- -------------------------- 0.8/2.3 MB 1.2 MB/s eta 0:00:02\n",
      "     ------------- -------------------------- 0.8/2.3 MB 1.2 MB/s eta 0:00:02\n",
      "     ------------- -------------------------- 0.8/2.3 MB 1.2 MB/s eta 0:00:02\n",
      "     ------------- -------------------------- 0.8/2.3 MB 1.2 MB/s eta 0:00:02\n",
      "     ------------- -------------------------- 0.8/2.3 MB 1.2 MB/s eta 0:00:02\n",
      "     ------------- -------------------------- 0.8/2.3 MB 1.2 MB/s eta 0:00:02\n",
      "     ------------- -------------------------- 0.8/2.3 MB 1.2 MB/s eta 0:00:02\n",
      "     ------------- -------------------------- 0.8/2.3 MB 1.2 MB/s eta 0:00:02\n",
      "     ------------- -------------------------- 0.8/2.3 MB 1.2 MB/s eta 0:00:02\n",
      "     ------------- -------------------------- 0.8/2.3 MB 1.2 MB/s eta 0:00:02\n",
      "     ------------- -------------------------- 0.8/2.3 MB 1.2 MB/s eta 0:00:02\n",
      "     ------------- -------------------------- 0.8/2.3 MB 1.2 MB/s eta 0:00:02\n",
      "     ------------- -------------------------- 0.8/2.3 MB 1.2 MB/s eta 0:00:02\n",
      "     ------------- -------------------------- 0.8/2.3 MB 1.2 MB/s eta 0:00:02\n",
      "     ------------- -------------------------- 0.8/2.3 MB 1.2 MB/s eta 0:00:02\n",
      "     ------------- -------------------------- 0.8/2.3 MB 1.2 MB/s eta 0:00:02\n",
      "     ------------- -------------------------- 0.8/2.3 MB 1.2 MB/s eta 0:00:02\n",
      "     ------------- -------------------------- 0.8/2.3 MB 1.2 MB/s eta 0:00:02\n",
      "     ------------- -------------------------- 0.8/2.3 MB 1.2 MB/s eta 0:00:02\n",
      "     ------------- -------------------------- 0.8/2.3 MB 1.2 MB/s eta 0:00:02\n",
      "     ------------- -------------------------- 0.8/2.3 MB 1.2 MB/s eta 0:00:02\n",
      "     ------------- -------------------------- 0.8/2.3 MB 1.2 MB/s eta 0:00:02\n",
      "     ------------- -------------------------- 0.8/2.3 MB 1.2 MB/s eta 0:00:02\n",
      "     ------------- -------------------------- 0.8/2.3 MB 1.2 MB/s eta 0:00:02\n",
      "     ------------- -------------------------- 0.8/2.3 MB 1.2 MB/s eta 0:00:02\n",
      "     ------------- -------------------------- 0.8/2.3 MB 1.2 MB/s eta 0:00:02\n",
      "     ------------- -------------------------- 0.8/2.3 MB 1.2 MB/s eta 0:00:02\n",
      "     ------------- -------------------------- 0.8/2.3 MB 1.2 MB/s eta 0:00:02\n",
      "     ------------- -------------------------- 0.8/2.3 MB 1.2 MB/s eta 0:00:02\n",
      "     ------------- -------------------------- 0.8/2.3 MB 1.2 MB/s eta 0:00:02\n",
      "     ------------- -------------------------- 0.8/2.3 MB 1.2 MB/s eta 0:00:02\n",
      "     ------------- -------------------------- 0.8/2.3 MB 1.2 MB/s eta 0:00:02\n",
      "     ------------- -------------------------- 0.8/2.3 MB 1.2 MB/s eta 0:00:02\n",
      "     ------------- -------------------------- 0.8/2.3 MB 1.2 MB/s eta 0:00:02\n",
      "     ------------- -------------------------- 0.8/2.3 MB 1.2 MB/s eta 0:00:02\n",
      "     ------------- -------------------------- 0.8/2.3 MB 1.2 MB/s eta 0:00:02\n",
      "     ------------- -------------------------- 0.8/2.3 MB 1.2 MB/s eta 0:00:02\n",
      "     ------------- -------------------------- 0.8/2.3 MB 1.2 MB/s eta 0:00:02\n",
      "     ------------- -------------------------- 0.8/2.3 MB 1.2 MB/s eta 0:00:02\n",
      "     ------------- -------------------------- 0.8/2.3 MB 1.2 MB/s eta 0:00:02\n",
      "     ------------- -------------------------- 0.8/2.3 MB 1.2 MB/s eta 0:00:02\n",
      "     ------------- -------------------------- 0.8/2.3 MB 252.1 kB/s eta 0:00:06\n",
      "     ------------- -------------------------- 0.8/2.3 MB 252.1 kB/s eta 0:00:06\n",
      "     -------------- ------------------------- 0.8/2.3 MB 249.8 kB/s eta 0:00:06\n",
      "     -------------- ------------------------- 0.8/2.3 MB 249.8 kB/s eta 0:00:06\n",
      "     -------------- ------------------------- 0.8/2.3 MB 248.9 kB/s eta 0:00:06\n",
      "     -------------- ------------------------- 0.8/2.3 MB 248.5 kB/s eta 0:00:06\n",
      "     --------------- ------------------------ 0.9/2.3 MB 259.1 kB/s eta 0:00:06\n",
      "     ----------------- ---------------------- 1.0/2.3 MB 282.6 kB/s eta 0:00:05\n",
      "     ------------------ --------------------- 1.1/2.3 MB 302.5 kB/s eta 0:00:04\n",
      "     -------------------- ------------------- 1.2/2.3 MB 330.6 kB/s eta 0:00:04\n",
      "     --------------------- ------------------ 1.2/2.3 MB 346.4 kB/s eta 0:00:03\n",
      "     ----------------------- ---------------- 1.3/2.3 MB 363.2 kB/s eta 0:00:03\n",
      "     ------------------------- -------------- 1.4/2.3 MB 383.7 kB/s eta 0:00:03\n",
      "     -------------------------- ------------- 1.5/2.3 MB 399.9 kB/s eta 0:00:02\n",
      "     --------------------------- ------------ 1.5/2.3 MB 411.4 kB/s eta 0:00:02\n",
      "     ---------------------------- ----------- 1.6/2.3 MB 421.6 kB/s eta 0:00:02\n",
      "     ------------------------------ --------- 1.7/2.3 MB 441.4 kB/s eta 0:00:02\n",
      "     ------------------------------ --------- 1.7/2.3 MB 446.6 kB/s eta 0:00:02\n",
      "     -------------------------------- ------- 1.8/2.3 MB 462.1 kB/s eta 0:00:01\n",
      "     --------------------------------- ------ 1.9/2.3 MB 476.6 kB/s eta 0:00:01\n",
      "     ---------------------------------- ----- 2.0/2.3 MB 487.1 kB/s eta 0:00:01\n",
      "     ------------------------------------ --- 2.1/2.3 MB 506.1 kB/s eta 0:00:01\n",
      "     -------------------------------------- - 2.2/2.3 MB 523.3 kB/s eta 0:00:01\n",
      "     ---------------------------------------  2.3/2.3 MB 539.6 kB/s eta 0:00:01\n",
      "     ---------------------------------------- 2.3/2.3 MB 539.4 kB/s eta 0:00:00\n",
      "Requirement already satisfied: keras>=2.0.0 in c:\\users\\hp\\anaconda3\\envs\\codsoft2\\lib\\site-packages (from mtcnn) (2.13.1)\n",
      "Requirement already satisfied: opencv-python>=4.1.0 in c:\\users\\hp\\appdata\\roaming\\python\\python311\\site-packages (from mtcnn) (4.7.0.72)\n",
      "Requirement already satisfied: numpy>=1.21.2 in c:\\users\\hp\\appdata\\roaming\\python\\python311\\site-packages (from opencv-python>=4.1.0->mtcnn) (1.23.5)\n",
      "Installing collected packages: mtcnn\n",
      "Successfully installed mtcnn-0.1.1\n"
     ]
    }
   ],
   "source": [
    "!pip install mtcnn"
   ]
  },
  {
   "cell_type": "code",
   "execution_count": 7,
   "metadata": {
    "id": "Po6pXsPbTTyu",
    "tags": []
   },
   "outputs": [],
   "source": [
    "import os\n",
    "import numpy as np\n",
    "import cv2\n",
    "\n",
    "from PIL import Image\n",
    "from numpy import asarray\n",
    "from mtcnn.mtcnn import MTCNN\n",
    "from keras.models import load_model,model_from_json"
   ]
  },
  {
   "cell_type": "code",
   "execution_count": 12,
   "metadata": {
    "id": "2EFsZHawnnZ5",
    "tags": []
   },
   "outputs": [],
   "source": [
    "model_path = \"Models/Inception_ResNet_v1.json\"\n",
    "weights_path = \"Models/facenet_keras_weights.h5\"\n",
    "\n",
    "json_file = open(model_path, 'r')\n",
    "loaded_model_json = json_file.read()\n",
    "json_file.close()\n",
    "enc_model = model_from_json(loaded_model_json)\n",
    "enc_model.load_weights(weights_path)"
   ]
  },
  {
   "cell_type": "code",
   "execution_count": null,
   "metadata": {
    "id": "LINQ1ZzCbEYw",
    "tags": []
   },
   "outputs": [],
   "source": [
    "mtcnn_detector = MTCNN()"
   ]
  },
  {
   "cell_type": "code",
   "execution_count": null,
   "metadata": {
    "id": "060X7dGbUaJJ"
   },
   "outputs": [],
   "source": [
    "def detect_face(filename, required_size=(160, 160),normalize = True):\n",
    "\n",
    "    img = Image.open(filename)\n",
    "\n",
    "    img = img.convert('RGB')\n",
    " \n",
    "     pixels = np.asarray(img)\n",
    " \n",
    "     results = mtcnn_detector.detect_faces(pixels)\n",
    " \n",
    "    x1, y1, width, height = results[0]['box']\n",
    "\n",
    "    x1, y1 = abs(x1), abs(y1)\n",
    "    x2, y2 = x1 + width, y1 + height\n",
    "\n",
    "    face = pixels[y1:y2, x1:x2]\n",
    "  \n",
    "    image = Image.fromarray(face)\n",
    "    image = image.resize(required_size)\n",
    "    face_array = asarray(image)\n",
    " \n",
    "    if normalize == True:\n",
    "\n",
    "        mean = np.mean(face_array, axis=(0,1,2), keepdims=True)\n",
    "        std = np.std(face_array, axis=(0,1,2), keepdims=True)\n",
    "        std_adj = np.maximum(std, 1.0)\n",
    "        return (face_array - mean) / std\n",
    "\n",
    "    else : \n",
    "        return face_array"
   ]
  },
  {
   "cell_type": "code",
   "execution_count": null,
   "metadata": {
    "id": "bMzpMGNe4HgU"
   },
   "outputs": [],
   "source": [
    "known_faces_encodings = []\n",
    "known_faces_ids = []\n",
    "\n",
    "known_faces_path = \"Face_database/\"\n",
    "\n",
    "for filename in os.listdir(known_faces_path):\n",
    "  \n",
    "  face = detect_face(known_faces_path+filename,normalize = True)\n",
    "\n",
    "  feature_vector = enc_model.predict(face.reshape(1,160,160,3))\n",
    "  feature_vector/= np.sqrt(np.sum(feature_vector**2))\n",
    "  known_faces_encodings.append(feature_vector)\n",
    "  label = filename.split('.')[0]\n",
    "  known_faces_ids.append(label)\n",
    "\n",
    "\n",
    "known_faces_encodings = np.array(known_faces_encodings).reshape(len(known_faces_encodings),128)\n",
    "known_faces_ids = np.array(known_faces_ids)"
   ]
  },
  {
   "cell_type": "code",
   "execution_count": null,
   "metadata": {
    "id": "4S60cggIBBR2"
   },
   "outputs": [],
   "source": [
    "print(known_faces_ids.shape[0])"
   ]
  },
  {
   "cell_type": "code",
   "execution_count": null,
   "metadata": {
    "id": "iyV6Eyd3XkA8"
   },
   "outputs": [],
   "source": [
    "\n",
    "def recognize(img,known_faces_encodings,known_faces_ids,threshold = 0.75):\n",
    "\n",
    "  scores = np.zeros((len(known_faces_ids),1),dtype=float)\n",
    "\n",
    "  enc = enc_model.predict(img.reshape(1,160,160,3))\n",
    "  enc/= np.sqrt(np.sum(enc**2))\n",
    "\n",
    "  scores = np.sqrt(np.sum((enc-known_faces_encodings)**2,axis=1))\n",
    "\n",
    "  match = np.argmin(scores)\n",
    "\n",
    "  if scores[match] > threshold :\n",
    "\n",
    "    return (\"UNKNOWN\",0)\n",
    "      \n",
    "  else :\n",
    "\n",
    "    return (known_faces_ids[match],scores[match])"
   ]
  },
  {
   "cell_type": "code",
   "execution_count": null,
   "metadata": {
    "id": "1okFKhLStsHD"
   },
   "outputs": [],
   "source": [
    "\n",
    "def face_recognition(mode,file_path,known_faces_encodings,known_faces_ids,\n",
    "                         detector = 'haar', threshold = 0.75):\n",
    "\n",
    "  if detector == 'haar':\n",
    "\n",
    "    face_cascade = cv2.CascadeClassifier('Models/haarcascade_frontalface_default.xml')\n",
    "\n",
    "  if mode == 'webcam':\n",
    "\n",
    "    cap = cv2.VideoCapture(0)\n",
    "\n",
    "  elif mode == 'video':\n",
    "    cap = cv2.VideoCapture(file_path)\n",
    "    \n",
    "  while True:\n",
    "\n",
    "    _, img = cap.read()\n",
    "    \n",
    "=    if _ == False:\n",
    "        break;\n",
    "\n",
    "    if detector == 'haar':\n",
    "    \n",
    "      gray = cv2.cvtColor(img, cv2.COLOR_BGR2GRAY)\n",
    "\n",
    "      faces = face_cascade.detectMultiScale(gray, 1.1, 4)\n",
    "\n",
    "    elif detector == 'mtcnn' :  \n",
    "\n",
    "      results = mtcnn_detector.detect_faces(img)\n",
    "      \n",
    "      if(len(results)==0):\n",
    "        continue\n",
    "\n",
    "      faces = []\n",
    "    \n",
    "      for i in range(len(results)):\n",
    "        \n",
    "        x,y,w,h = results[i]['box']\n",
    "        x, y = abs(x), abs(y)\n",
    "        faces.append([x,y,w,h])\n",
    "\n",
    "    for (x, y, w, h) in faces:\n",
    "        \n",
    "        image = Image.fromarray(img[y:y+h, x:x+w])\n",
    "        image = image.resize((160,160))\n",
    "        face_array = asarray(image)\n",
    "\n",
    "        mean = np.mean(face_array, axis=(0,1,2), keepdims=True)\n",
    "        std = np.std(face_array, axis=(0,1,2), keepdims=True)\n",
    "        std_adj = np.maximum(std, 1.0)\n",
    "        face_array_normalized = (face_array - mean) / std\n",
    "\n",
    "        label = recognize(face_array_normalized,known_faces_encodings,known_faces_ids,threshold = 0.75)\n",
    "        \n",
    "        cv2.rectangle(img, (x, y), (x+w, y+h), (0, 0, 0), 2)\n",
    "        cv2.putText(img, label[0], (x, y-10), cv2.FONT_HERSHEY_SIMPLEX, 0.9, (255,255,255), 2)\n",
    "\n",
    "    cv2.imshow('Face_Recognition', img)\n",
    "    \n",
    "    key = cv2.waitKey(25) & 0xff\n",
    "    if key==27:\n",
    "        break\n",
    "\n",
    "  cap.release() "
   ]
  },
  {
   "cell_type": "code",
   "execution_count": null,
   "metadata": {
    "id": "zoVzEG5Qz4zF"
   },
   "outputs": [],
   "source": [
    "\n",
    "face_recognition('webcam',None,known_faces_encodings,known_faces_ids,\n",
    "                 detector = 'haar',threshold = 0.75)"
   ]
  },
  {
   "cell_type": "code",
   "execution_count": null,
   "metadata": {
    "id": "yeRZlEJXVJZh"
   },
   "outputs": [],
   "source": [
    "\n",
    "face_recognition('video',\"test.mp4\",known_faces_encodings,known_faces_ids,\n",
    "                 detector = 'mtcnn',threshold = 0.75)"
   ]
  }
 ],
 "metadata": {
  "accelerator": "GPU",
  "colab": {
   "collapsed_sections": [],
   "machine_shape": "hm",
   "name": "Face_Recognition.ipynb",
   "provenance": []
  },
  "kernelspec": {
   "display_name": "Python 3 (ipykernel)",
   "language": "python",
   "name": "python3"
  },
  "language_info": {
   "codemirror_mode": {
    "name": "ipython",
    "version": 3
   },
   "file_extension": ".py",
   "mimetype": "text/x-python",
   "name": "python",
   "nbconvert_exporter": "python",
   "pygments_lexer": "ipython3",
   "version": "3.11.4"
  }
 },
 "nbformat": 4,
 "nbformat_minor": 4
}
